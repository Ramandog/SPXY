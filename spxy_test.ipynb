{
 "cells": [
  {
   "cell_type": "code",
   "execution_count": 8,
   "metadata": {},
   "outputs": [],
   "source": [
    "import numpy as np\n",
    "import pandas as pd\n",
    "data = np.array(pd.read_csv('bsl2.csv',header=None))\n"
   ]
  },
  {
   "cell_type": "code",
   "execution_count": 9,
   "metadata": {},
   "outputs": [],
   "source": [
    "x = data[:,1:]\n",
    "y = data[:,0]\n"
   ]
  },
  {
   "cell_type": "code",
   "execution_count": 10,
   "metadata": {},
   "outputs": [
    {
     "data": {
      "text/plain": [
       "(757, 420)"
      ]
     },
     "execution_count": 10,
     "metadata": {},
     "output_type": "execute_result"
    }
   ],
   "source": [
    "x.shape"
   ]
  },
  {
   "cell_type": "code",
   "execution_count": 11,
   "metadata": {},
   "outputs": [],
   "source": [
    "def spxy(x, y, test_size=0.2):\n",
    "\n",
    "    x_backup = x\n",
    "    y_backup = y   \n",
    "    M = x.shape[0]            \n",
    "    N = round((1-test_size) * M)\n",
    "    samples = np.arange(M)    \n",
    " \n",
    "    y = (y - np.mean(y))/np.std(y)\n",
    "    D = np.zeros((M, M))\n",
    "    Dy = np.zeros((M, M))\n",
    " \n",
    "    for i in range(M-1):\n",
    "        xa = x[i, :]\n",
    "        ya = y[i]\n",
    "        for j in range((i+1), M):\n",
    "            xb = x[j, :]\n",
    "            yb = y[j]\n",
    "            D[i, j] = np.linalg.norm(xa-xb)   \n",
    "            Dy[i, j] = np.linalg.norm(ya - yb) \n",
    " \n",
    "    Dmax = np.max(D)       \n",
    "    Dymax = np.max(Dy)\n",
    "    D = D/Dmax + Dy/Dymax \n",
    " \n",
    "    maxD = D.max(axis=0)              \n",
    "    index_row = D.argmax(axis=0)     #返回axis轴方向最大值的索引\n",
    "    index_column = maxD.argmax()      \n",
    " \n",
    "    m = np.zeros(N)\n",
    "    m[0] = index_row[index_column]\n",
    "    m[1] = index_column\n",
    "    m = m.astype(int)        \n",
    " \n",
    "    dminmax = np.zeros(N)\n",
    "    dminmax[1] = D[m[0], m[1]]  \n",
    " \n",
    "    for i in range(2, N): \n",
    "        pool = np.delete(samples, m[:i])\n",
    "        dmin = np.zeros(M-i)  \n",
    "        for j in range(M-i): \n",
    "            indexa = pool[j] \n",
    "            d = np.zeros(i)  \n",
    "            for k in range(i):  \n",
    "                indexb = m[k] \n",
    "                if indexa < indexb:  \n",
    "                    d[k] = D[indexa, indexb]\n",
    "                else:\n",
    "                    d[k] = D[indexb, indexa]\n",
    "            dmin[j] = np.min(d)    \n",
    "        dminmax[i] = np.max(dmin)   \n",
    "        index = np.argmax(dmin)    \n",
    "        m[i] = pool[index]        \n",
    " \n",
    "    m_complement = np.delete(np.arange(x.shape[0]), m)     \n",
    " \n",
    "    spec_train = x[m, :]\n",
    "    target_train = y_backup[m]\n",
    "    spec_test = x[m_complement, :]\n",
    "    target_test = y_backup[m_complement]\n",
    " \n",
    "    return spec_train, spec_test, target_train, target_test"
   ]
  },
  {
   "cell_type": "code",
   "execution_count": 12,
   "metadata": {},
   "outputs": [],
   "source": [
    "spec_train, spec_test, target_train, target_test = spxy(x,y, test_size=0.2)"
   ]
  },
  {
   "cell_type": "code",
   "execution_count": 13,
   "metadata": {},
   "outputs": [],
   "source": [
    "train_data = np.c_[target_train,spec_train]\n",
    "test_data = np.c_[target_test,spec_test]"
   ]
  },
  {
   "cell_type": "code",
   "execution_count": 14,
   "metadata": {},
   "outputs": [],
   "source": [
    "np.savetxt('train.csv',train_data, delimiter=\",\", comments=\"\", fmt='%s')\n",
    "np.savetxt('test.csv',test_data, delimiter=\",\", comments=\"\", fmt='%s')"
   ]
  },
  {
   "cell_type": "code",
   "execution_count": null,
   "metadata": {},
   "outputs": [],
   "source": []
  }
 ],
 "metadata": {
  "interpreter": {
   "hash": "ae7890921ac3c17143ff000ac7152addc6614e2051824da39aa37dab63d26d82"
  },
  "kernelspec": {
   "display_name": "Python 3.8.8 ('base')",
   "language": "python",
   "name": "python3"
  },
  "language_info": {
   "codemirror_mode": {
    "name": "ipython",
    "version": 3
   },
   "file_extension": ".py",
   "mimetype": "text/x-python",
   "name": "python",
   "nbconvert_exporter": "python",
   "pygments_lexer": "ipython3",
   "version": "3.8.8"
  },
  "orig_nbformat": 4
 },
 "nbformat": 4,
 "nbformat_minor": 2
}
